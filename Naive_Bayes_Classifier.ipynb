{
  "cells": [
    {
      "cell_type": "markdown",
      "metadata": {
        "id": "view-in-github",
        "colab_type": "text"
      },
      "source": [
        "<a href=\"https://colab.research.google.com/github/RuchiRaina3/Baby-Cry-Project/blob/main/Naive_Bayes_Classifier.ipynb\" target=\"_parent\"><img src=\"https://colab.research.google.com/assets/colab-badge.svg\" alt=\"Open In Colab\"/></a>"
      ]
    },
    {
      "cell_type": "code",
      "execution_count": null,
      "metadata": {
        "colab": {
          "base_uri": "https://localhost:8080/"
        },
        "id": "Zmw1Np7LtiJF",
        "outputId": "dfbb78cb-11ba-40f3-efa7-bf3cbe551296"
      },
      "outputs": [
        {
          "output_type": "stream",
          "name": "stdout",
          "text": [
            "Mounted at /content/drive\n"
          ]
        }
      ],
      "source": [
        "from google.colab import drive\n",
        "drive.mount('/content/drive')"
      ]
    },
    {
      "cell_type": "code",
      "execution_count": null,
      "metadata": {
        "id": "RnmHtr0TgaeF"
      },
      "outputs": [],
      "source": [
        "import matplotlib.pyplot as plt\n",
        "import numpy as np\n",
        "import pandas as pd\n",
        "import librosa\n",
        "from math import sqrt\n",
        "from math import pi\n",
        "from math import exp"
      ]
    },
    {
      "cell_type": "markdown",
      "metadata": {
        "id": "WVh_hAftI4jg"
      },
      "source": [
        "**STEP 1:** READING EXCEL SHEETS"
      ]
    },
    {
      "cell_type": "code",
      "execution_count": null,
      "metadata": {
        "id": "yMnVSMtwIqMJ"
      },
      "outputs": [],
      "source": [
        "train_df = pd.read_excel(\"/content/drive/MyDrive/Baby Cry Project/Train Data.xlsx\")\n",
        "test_df = pd.read_excel(\"/content/drive/MyDrive/Baby Cry Project/Test Data.xlsx\")"
      ]
    },
    {
      "cell_type": "markdown",
      "metadata": {
        "id": "11xWCxzXhrOI"
      },
      "source": [
        "**STEP 2:** DERIVING STATISTICS(mean, std. deviation, length) OF COLUMNS - ENERGY & ZCR TO SUMMARIZE DATASET"
      ]
    },
    {
      "cell_type": "code",
      "execution_count": null,
      "metadata": {
        "id": "0-3RDFpVpXT_"
      },
      "outputs": [],
      "source": [
        "#Function to find statistics\n",
        "def stats(df):\n",
        "  stats_df = [(df[column].mean(), df[column].std(), len(df['Energy'])) for column in df.columns]\n",
        "  stats_df.pop(2) #Removes the element at index 2 of list and returns that removed element.\n",
        "  print(stats_df)\n",
        "  return stats_df"
      ]
    },
    {
      "cell_type": "code",
      "execution_count": null,
      "metadata": {
        "colab": {
          "base_uri": "https://localhost:8080/"
        },
        "id": "FccALJr5qBwP",
        "outputId": "9ee799b8-5d04-4b85-c6b6-67c67fc12523"
      },
      "outputs": [
        {
          "output_type": "stream",
          "name": "stdout",
          "text": [
            "[(21.988192872790943, 37.172097473674654, 325), (5955.88923076923, 2278.602503818592, 325)]\n"
          ]
        }
      ],
      "source": [
        "#Calling the stats function\n",
        "stats_train_df = stats(train_df)"
      ]
    },
    {
      "cell_type": "markdown",
      "metadata": {
        "id": "AXpBh6ASVedd"
      },
      "source": [
        "**STEP 3:** SUMMARIZE DATASET BY CLASS\n",
        "1.   Separate dataset by class\n",
        "2.   Calculate statistics for each class"
      ]
    },
    {
      "cell_type": "code",
      "execution_count": null,
      "metadata": {
        "id": "Jm2w9e2eYoSP"
      },
      "outputs": [],
      "source": [
        "#Fuction To separate df by class\n",
        "def separate_by_class(df):\n",
        "  grouped_df = df.groupby('Label')\n",
        "  i = 0\n",
        "  for key, value in grouped_df:\n",
        "    print(\"Class \", key, end=\" \") \n",
        "    if i == 0:\n",
        "      print(\"DISCOMFORT\")\n",
        "    if i == 1:\n",
        "      print(\"HUNGRY\")\n",
        "    if i == 2:\n",
        "      print(\"TIRED\")\n",
        "    i+=1 \n",
        "    #print(grouped_df.get_group(key)) and print(value) print the dataset of that particular class(key)\n",
        "    print(value)\n",
        "    #print(value.Energy) prints only the Energy column of that class\n",
        "    print()\n",
        "  print() \n",
        "  return grouped_df"
      ]
    },
    {
      "cell_type": "code",
      "execution_count": null,
      "metadata": {
        "id": "JkISL9GjyN2M"
      },
      "outputs": [],
      "source": [
        "def display(d):\n",
        "  for key in d:\n",
        "    i = 1\n",
        "    print(\"Class \", key)\n",
        "    print(\"Energy Statistics: \", end = \"\")\n",
        "    for value in d[key]:\n",
        "      print(value)\n",
        "      if i == 1:\n",
        "        print(\"ZCR Statistics: \", end = \"\")\n",
        "        i = 0\n",
        "  print()"
      ]
    },
    {
      "cell_type": "code",
      "execution_count": null,
      "metadata": {
        "id": "sL6Mq73fr0x2"
      },
      "outputs": [],
      "source": [
        "#Fuction To calculate stats of each class and storing in dictionary\n",
        "def stats_class(df):\n",
        "  grouped_df = separate_by_class(df)\n",
        "  d = {}\n",
        "  for key, value in grouped_df:\n",
        "    #value.Energy.mean(), df.groupby('Label').get_group(0)['Energy'].mean() returns the mean of Energy column of that class and\n",
        "    #df.groupby('Label')['Energy'].mean() returns means of Energy column of all the classes\n",
        "    stats = [(value.Energy.mean(), value.Energy.std(),value.Energy.size), (value.ZCR.mean(), value.ZCR.std(),value.ZCR.size)]\n",
        "    d[key] = stats\n",
        "  display(d)\n",
        "  return d"
      ]
    },
    {
      "cell_type": "markdown",
      "source": [
        "**STEP 4:** CALCULATING GAUSSIAN PROBABILITY DISTRIBUTION FUNCTION"
      ],
      "metadata": {
        "id": "44-HM6L9Gusi"
      }
    },
    {
      "cell_type": "code",
      "source": [
        "def gaussian_pdf(x, mean, std):\n",
        "  exponent = exp(-((x-mean)**2 / (2 * std**2 )))\n",
        "  return (1 / (sqrt(2 * pi) * std)) * exponent"
      ],
      "metadata": {
        "id": "vC1g1J8694oM"
      },
      "execution_count": null,
      "outputs": []
    },
    {
      "cell_type": "markdown",
      "source": [
        "**STEP 5:** CALCULATE PROBABILITIES\n",
        "1. Calculate Class prob. i.e. P(class) = Rows in class / Total Rows in training Dataset\n",
        "2. Calculate Prob. for each input value in the row using the Gaussian probability density function and the statistics for that column and of that class"
      ],
      "metadata": {
        "id": "Rhj0uxJHIC_y"
      }
    },
    {
      "cell_type": "code",
      "source": [
        "def calculate_prob(stats, df):\n",
        "  total_rows = float(sum([stats[class_name][0][2] for class_name in stats]))\n",
        "  prob = {}\n",
        "  for class_name, class_values in stats.items():\n",
        "    #P(class)        = Rows in class/Total Rows in training Dataset\n",
        "    prob[class_name] = stats[class_name][0][2]/(total_rows)\n",
        "\n",
        "    #Calculate Prob. for each input value in the row\n",
        "    for i in range(len(class_values)):\n",
        "      mean, std, count = class_values[i]\n",
        "      #P(class=0|Energy(x1),ZCR(x2)) = P(x1|class=0) * P(x2|class=0) * P(class=0)\n",
        "      prob[class_name] *= gaussian_pdf(df[i], mean, std)\n",
        "      #prob[class_name] = gaussian_pdf(df.loc[0][i], mean, std) * prob[class_name]\n",
        "  return prob #Dictionary"
      ],
      "metadata": {
        "id": "Pqcj31m-4D4x"
      },
      "execution_count": null,
      "outputs": []
    },
    {
      "cell_type": "code",
      "source": [
        "def predict(stats, df):\n",
        "  probabilities = calculate_prob(stats, df)\n",
        "  best_class, best_prob = None, -1\n",
        "  for class_value, probability in probabilities.items():\n",
        "      if best_class is None or probability > best_prob:\n",
        "        best_prob = probability\n",
        "        best_class = class_value\n",
        "  return best_class"
      ],
      "metadata": {
        "id": "LJlFz73v-rwu"
      },
      "execution_count": null,
      "outputs": []
    },
    {
      "cell_type": "code",
      "source": [
        "model = stats_class(train_df)"
      ],
      "metadata": {
        "id": "L4JmU04vDmP4",
        "colab": {
          "base_uri": "https://localhost:8080/"
        },
        "outputId": "4f822466-0d31-4463-a2ea-31ffeb6ea3e2"
      },
      "execution_count": null,
      "outputs": [
        {
          "output_type": "stream",
          "name": "stdout",
          "text": [
            "Class  1 DISCOMFORT\n",
            "       Energy    ZCR  Label\n",
            "0    2.193834   5156      1\n",
            "1    0.638413   5507      1\n",
            "2    1.733535   5463      1\n",
            "3    1.206897   5043      1\n",
            "4    1.226826   3872      1\n",
            "..        ...    ...    ...\n",
            "60  69.308051  11333      1\n",
            "61  30.942355  12357      1\n",
            "62  72.360452  11377      1\n",
            "63  40.173546  11582      1\n",
            "64  37.373773  11855      1\n",
            "\n",
            "[65 rows x 3 columns]\n",
            "\n",
            "Class  2 HUNGRY\n",
            "        Energy   ZCR  Label\n",
            "65    9.716139  6913      2\n",
            "66    1.212461  6753      2\n",
            "67    5.151559  8863      2\n",
            "68    8.644998  5772      2\n",
            "69    2.307016  5450      2\n",
            "..         ...   ...    ...\n",
            "125  76.645378  7244      2\n",
            "126  42.536263  7914      2\n",
            "127  56.423792  9639      2\n",
            "128  53.688319  7487      2\n",
            "129  42.000551  8875      2\n",
            "\n",
            "[65 rows x 3 columns]\n",
            "\n",
            "Class  3 TIRED\n",
            "       Energy   ZCR  Label\n",
            "130  0.270054  4824      3\n",
            "131  0.100029  5182      3\n",
            "132  6.928105  5463      3\n",
            "133  0.205488  4732      3\n",
            "134  0.841568  8670      3\n",
            "..        ...   ...    ...\n",
            "190  5.089931  3291      3\n",
            "191  2.553286  3631      3\n",
            "192  0.521432  2380      3\n",
            "193  0.356924  3177      3\n",
            "194  0.004792  2826      3\n",
            "\n",
            "[65 rows x 3 columns]\n",
            "\n",
            "Class  4         Energy   ZCR  Label\n",
            "195  32.290142  9185      4\n",
            "196  46.779625  6301      4\n",
            "197  43.084667  5979      4\n",
            "198   8.133268  4485      4\n",
            "199   1.323604  8416      4\n",
            "..         ...   ...    ...\n",
            "255   2.316955  4757      4\n",
            "256  13.603335  6893      4\n",
            "257   9.971388  7565      4\n",
            "258  45.537028  7805      4\n",
            "259  60.779830  7042      4\n",
            "\n",
            "[65 rows x 3 columns]\n",
            "\n",
            "Class  5        Energy    ZCR  Label\n",
            "260  6.900813   6455      5\n",
            "261  4.599169   7582      5\n",
            "262  6.973565   5703      5\n",
            "263  6.696209   8541      5\n",
            "264  0.082697   3058      5\n",
            "..        ...    ...    ...\n",
            "320  0.001969   9522      5\n",
            "321  0.001110  10327      5\n",
            "322  0.337169   7599      5\n",
            "323  0.001465  10502      5\n",
            "324  0.147398   7569      5\n",
            "\n",
            "[65 rows x 3 columns]\n",
            "\n",
            "\n",
            "Class  1\n",
            "Energy Statistics: (11.022040368105868, 20.01885806731545, 65)\n",
            "ZCR Statistics: (6126.784615384616, 2375.020509729256, 65)\n",
            "Class  2\n",
            "Energy Statistics: (38.55897555737514, 43.89062776913235, 65)\n",
            "ZCR Statistics: (6987.492307692308, 2457.1165781961085, 65)\n",
            "Class  3\n",
            "Energy Statistics: (24.743143709012887, 52.26942676775152, 65)\n",
            "ZCR Statistics: (5291.507692307692, 2215.7943068110258, 65)\n",
            "Class  4\n",
            "Energy Statistics: (29.629965050430034, 33.921961824741174, 65)\n",
            "ZCR Statistics: (5355.030769230769, 1871.1129957296705, 65)\n",
            "Class  5\n",
            "Energy Statistics: (5.986839679030785, 7.561204788601283, 65)\n",
            "ZCR Statistics: (6018.630769230769, 2065.485827907919, 65)\n",
            "\n"
          ]
        }
      ]
    },
    {
      "cell_type": "code",
      "source": [
        "for i in range(len(train_df)):\n",
        "  label = predict(model,train_df.loc[i])\n",
        "  print(label)"
      ],
      "metadata": {
        "colab": {
          "base_uri": "https://localhost:8080/"
        },
        "id": "aGkCKt7QKCcQ",
        "outputId": "2f9cf649-dbaf-4f07-f431-f14204984ca8"
      },
      "execution_count": null,
      "outputs": [
        {
          "output_type": "stream",
          "name": "stdout",
          "text": [
            "5\n",
            "5\n",
            "5\n",
            "5\n",
            "5\n",
            "5\n",
            "5\n",
            "5\n",
            "5\n",
            "5\n",
            "5\n",
            "5\n",
            "5\n",
            "5\n",
            "5\n",
            "5\n",
            "5\n",
            "5\n",
            "5\n",
            "5\n",
            "5\n",
            "5\n",
            "5\n",
            "1\n",
            "5\n",
            "5\n",
            "5\n",
            "5\n",
            "5\n",
            "5\n",
            "4\n",
            "4\n",
            "3\n",
            "1\n",
            "4\n",
            "5\n",
            "5\n",
            "5\n",
            "5\n",
            "5\n",
            "5\n",
            "5\n",
            "5\n",
            "5\n",
            "5\n",
            "1\n",
            "5\n",
            "5\n",
            "5\n",
            "5\n",
            "5\n",
            "5\n",
            "5\n",
            "5\n",
            "5\n",
            "5\n",
            "5\n",
            "5\n",
            "5\n",
            "5\n",
            "2\n",
            "2\n",
            "2\n",
            "2\n",
            "2\n",
            "5\n",
            "5\n",
            "5\n",
            "5\n",
            "5\n",
            "5\n",
            "5\n",
            "5\n",
            "5\n",
            "5\n",
            "5\n",
            "5\n",
            "5\n",
            "5\n",
            "5\n",
            "2\n",
            "1\n",
            "2\n",
            "5\n",
            "2\n",
            "1\n",
            "2\n",
            "1\n",
            "5\n",
            "1\n",
            "2\n",
            "2\n",
            "2\n",
            "2\n",
            "2\n",
            "2\n",
            "2\n",
            "2\n",
            "2\n",
            "5\n",
            "2\n",
            "5\n",
            "2\n",
            "5\n",
            "2\n",
            "5\n",
            "2\n",
            "5\n",
            "5\n",
            "5\n",
            "5\n",
            "4\n",
            "5\n",
            "1\n",
            "5\n",
            "4\n",
            "5\n",
            "5\n",
            "4\n",
            "4\n",
            "2\n",
            "2\n",
            "2\n",
            "2\n",
            "2\n",
            "2\n",
            "2\n",
            "2\n",
            "2\n",
            "2\n",
            "5\n",
            "5\n",
            "5\n",
            "5\n",
            "5\n",
            "4\n",
            "5\n",
            "4\n",
            "1\n",
            "5\n",
            "4\n",
            "1\n",
            "4\n",
            "4\n",
            "5\n",
            "5\n",
            "5\n",
            "5\n",
            "5\n",
            "1\n",
            "3\n",
            "4\n",
            "4\n",
            "1\n",
            "3\n",
            "2\n",
            "2\n",
            "3\n",
            "2\n",
            "3\n",
            "5\n",
            "5\n",
            "5\n",
            "5\n",
            "5\n",
            "5\n",
            "5\n",
            "5\n",
            "5\n",
            "5\n",
            "5\n",
            "5\n",
            "5\n",
            "5\n",
            "5\n",
            "5\n",
            "5\n",
            "5\n",
            "5\n",
            "5\n",
            "5\n",
            "5\n",
            "5\n",
            "5\n",
            "5\n",
            "5\n",
            "5\n",
            "5\n",
            "5\n",
            "5\n",
            "5\n",
            "5\n",
            "5\n",
            "5\n",
            "5\n",
            "2\n",
            "4\n",
            "4\n",
            "5\n",
            "5\n",
            "4\n",
            "1\n",
            "1\n",
            "2\n",
            "4\n",
            "5\n",
            "4\n",
            "4\n",
            "5\n",
            "5\n",
            "5\n",
            "5\n",
            "3\n",
            "3\n",
            "5\n",
            "5\n",
            "4\n",
            "4\n",
            "3\n",
            "3\n",
            "5\n",
            "5\n",
            "4\n",
            "4\n",
            "4\n",
            "4\n",
            "1\n",
            "1\n",
            "5\n",
            "5\n",
            "5\n",
            "1\n",
            "5\n",
            "2\n",
            "2\n",
            "4\n",
            "5\n",
            "5\n",
            "3\n",
            "5\n",
            "5\n",
            "5\n",
            "4\n",
            "2\n",
            "5\n",
            "5\n",
            "5\n",
            "5\n",
            "4\n",
            "5\n",
            "5\n",
            "5\n",
            "2\n",
            "5\n",
            "5\n",
            "5\n",
            "5\n",
            "5\n",
            "2\n",
            "2\n",
            "5\n",
            "5\n",
            "5\n",
            "5\n",
            "5\n",
            "5\n",
            "5\n",
            "5\n",
            "5\n",
            "5\n",
            "4\n",
            "5\n",
            "1\n",
            "5\n",
            "5\n",
            "5\n",
            "5\n",
            "5\n",
            "5\n",
            "5\n",
            "5\n",
            "5\n",
            "5\n",
            "5\n",
            "1\n",
            "5\n",
            "5\n",
            "5\n",
            "5\n",
            "5\n",
            "5\n",
            "5\n",
            "1\n",
            "5\n",
            "5\n",
            "2\n",
            "5\n",
            "1\n",
            "1\n",
            "5\n",
            "5\n",
            "5\n",
            "5\n",
            "5\n",
            "5\n",
            "5\n",
            "5\n",
            "5\n",
            "5\n",
            "5\n",
            "5\n",
            "5\n",
            "5\n",
            "5\n",
            "5\n",
            "5\n",
            "5\n",
            "5\n",
            "5\n",
            "5\n",
            "5\n",
            "5\n",
            "5\n",
            "5\n",
            "5\n"
          ]
        }
      ]
    },
    {
      "cell_type": "code",
      "source": [
        "model1 = stats_class(test_df)"
      ],
      "metadata": {
        "id": "wFSulquaGxmh",
        "colab": {
          "base_uri": "https://localhost:8080/"
        },
        "outputId": "db64796c-e2f1-4e08-a366-248cdcf18bd8"
      },
      "execution_count": null,
      "outputs": [
        {
          "output_type": "stream",
          "name": "stdout",
          "text": [
            "Class  1 DISCOMFORT\n",
            "      Energy   ZCR  Label\n",
            "0   0.191338  4252      1\n",
            "1   0.085532  4537      1\n",
            "2   1.411783  6746      1\n",
            "3   0.003414  4653      1\n",
            "4   0.746864  5554      1\n",
            "5   0.336817  3821      1\n",
            "6   0.104141  4089      1\n",
            "7   0.341549  3337      1\n",
            "8   0.382417  3076      1\n",
            "9   0.001429  6018      1\n",
            "10  0.812897  4651      1\n",
            "11  0.344007  5072      1\n",
            "12  0.602507  4821      1\n",
            "13  0.532433  4742      1\n",
            "14  0.980484  3606      1\n",
            "\n",
            "Class  2 HUNGRY\n",
            "       Energy    ZCR  Label\n",
            "15  45.918124  11746      2\n",
            "16  55.537417  11079      2\n",
            "17  23.298573  13410      2\n",
            "18  26.811426  12355      2\n",
            "19  51.142511  11803      2\n",
            "20  50.299981  11021      2\n",
            "21  34.232958  12285      2\n",
            "22  27.620347  12137      2\n",
            "23  29.459922  10666      2\n",
            "24  43.678250  11647      2\n",
            "25   5.255000   7418      2\n",
            "26   8.728190   5884      2\n",
            "27   2.235084   8589      2\n",
            "28   4.826286   6178      2\n",
            "29   2.471857   6389      2\n",
            "\n",
            "Class  3 TIRED\n",
            "       Energy   ZCR  Label\n",
            "30  63.329537  4706      3\n",
            "31  31.988644  5581      3\n",
            "32  50.982173  4461      3\n",
            "33  11.613233  5021      3\n",
            "34  37.561630  4973      3\n",
            "35   0.216562  3479      3\n",
            "36   0.107714  3650      3\n",
            "37   0.504200  4500      3\n",
            "38   0.153104  3578      3\n",
            "39   0.384798  5438      3\n",
            "40  33.988215  7685      3\n",
            "41  13.779547  8972      3\n",
            "42  24.891938  7812      3\n",
            "43  21.690256  9678      3\n",
            "44  16.723051  8037      3\n",
            "\n",
            "Class  4         Energy   ZCR  Label\n",
            "45    0.003929  5526      4\n",
            "46    0.352176  3684      4\n",
            "47   16.393225  8499      4\n",
            "48  116.991152  6544      4\n",
            "49   83.435695  2988      4\n",
            "50    0.142994  4804      4\n",
            "51   90.082687  6834      4\n",
            "52    2.599144  4948      4\n",
            "53   11.827127  4702      4\n",
            "54    2.477965  6559      4\n",
            "55    2.192866  5831      4\n",
            "56   63.440800  4940      4\n",
            "57    0.608979  3514      4\n",
            "58   11.339106  5268      4\n",
            "59   31.372323  4792      4\n",
            "\n",
            "Class  5        Energy   ZCR  Label\n",
            "60  20.012476  6541      5\n",
            "61   8.839580  7635      5\n",
            "62  20.919373  6989      5\n",
            "63  10.497177  7159      5\n",
            "64  15.957709  6586      5\n",
            "65   0.060573  5809      5\n",
            "66   0.028948  5651      5\n",
            "67   5.607105  7207      5\n",
            "68   0.043775  5854      5\n",
            "69   0.038000  5538      5\n",
            "70   0.146051  5433      5\n",
            "71   0.060981  5647      5\n",
            "72   0.162560  5332      5\n",
            "73   0.100206  5000      5\n",
            "74   0.056016  5500      5\n",
            "\n",
            "\n",
            "Class  1\n",
            "Energy Statistics: (0.4585074666392064, 0.3978172634823701, 15)\n",
            "ZCR Statistics: (4598.333333333333, 990.0263103766966, 15)\n",
            "Class  2\n",
            "Energy Statistics: (27.43439498780056, 19.196650473237952, 15)\n",
            "ZCR Statistics: (10173.8, 2555.348737732009, 15)\n",
            "Class  3\n",
            "Energy Statistics: (20.527640158431588, 19.952378589744285, 15)\n",
            "ZCR Statistics: (5838.066666666667, 2049.0525150722247, 15)\n",
            "Class  4\n",
            "Energy Statistics: (28.884011263983165, 39.47278952191127, 15)\n",
            "ZCR Statistics: (5295.533333333334, 1422.144249598706, 15)\n",
            "Class  5\n",
            "Energy Statistics: (5.502035158370386, 7.830904873669458, 15)\n",
            "ZCR Statistics: (6125.4, 818.8423710161978, 15)\n",
            "\n"
          ]
        }
      ]
    },
    {
      "cell_type": "code",
      "source": [
        "predicted_list = []\n",
        "for i in range(len(test_df)):\n",
        "  label = predict(model1,test_df.loc[i])\n",
        "  print(label)\n",
        "  predicted_list.append(label)"
      ],
      "metadata": {
        "id": "FcyGWG5YGeQr",
        "colab": {
          "base_uri": "https://localhost:8080/"
        },
        "outputId": "c540900f-1189-48be-ef08-3f6dc7509e49"
      },
      "execution_count": null,
      "outputs": [
        {
          "output_type": "stream",
          "name": "stdout",
          "text": [
            "1\n",
            "1\n",
            "5\n",
            "1\n",
            "1\n",
            "1\n",
            "1\n",
            "1\n",
            "1\n",
            "1\n",
            "1\n",
            "1\n",
            "1\n",
            "1\n",
            "1\n",
            "2\n",
            "2\n",
            "2\n",
            "2\n",
            "2\n",
            "2\n",
            "2\n",
            "2\n",
            "2\n",
            "2\n",
            "5\n",
            "5\n",
            "2\n",
            "5\n",
            "5\n",
            "4\n",
            "3\n",
            "4\n",
            "5\n",
            "4\n",
            "1\n",
            "1\n",
            "1\n",
            "1\n",
            "1\n",
            "3\n",
            "2\n",
            "3\n",
            "2\n",
            "3\n",
            "1\n",
            "1\n",
            "2\n",
            "4\n",
            "4\n",
            "1\n",
            "4\n",
            "5\n",
            "5\n",
            "5\n",
            "5\n",
            "4\n",
            "1\n",
            "5\n",
            "3\n",
            "5\n",
            "5\n",
            "3\n",
            "5\n",
            "5\n",
            "1\n",
            "1\n",
            "5\n",
            "1\n",
            "1\n",
            "1\n",
            "1\n",
            "1\n",
            "1\n",
            "1\n"
          ]
        }
      ]
    },
    {
      "cell_type": "code",
      "source": [
        "actual_list = []\n",
        "for i in range(len(test_df)):\n",
        "  actual_list.append(test_df.iloc[i][2])"
      ],
      "metadata": {
        "id": "fzEKjmPyzTBO"
      },
      "execution_count": null,
      "outputs": []
    },
    {
      "cell_type": "code",
      "source": [
        "def accuracy_metric(actual, predicted):\n",
        "\tcorrect = 0\n",
        "\tfor i in range(len(actual)):\n",
        "\t\tif actual[i] == predicted[i]:\n",
        "\t\t\tcorrect += 1\n",
        "\treturn correct / float(len(actual)) * 100.0"
      ],
      "metadata": {
        "id": "8veN37cEz2vi"
      },
      "execution_count": null,
      "outputs": []
    },
    {
      "cell_type": "code",
      "source": [
        "accuracy = accuracy_metric(actual_list, predicted_list)\n",
        "print(accuracy)"
      ],
      "metadata": {
        "colab": {
          "base_uri": "https://localhost:8080/"
        },
        "id": "XPCr6Ltf0XmJ",
        "outputId": "8df86590-cebc-4f9a-ebb2-37b74a873fe3"
      },
      "execution_count": null,
      "outputs": [
        {
          "output_type": "stream",
          "name": "stdout",
          "text": [
            "50.66666666666667\n"
          ]
        }
      ]
    },
    {
      "cell_type": "markdown",
      "source": [
        "### Label 1 - bellypain\n",
        "### Label 2 - burping\n",
        "### Label 3 - discomfort\n",
        "### Label 4 - hungry\n",
        "### Label 5 - tired\n",
        "\n",
        "\n"
      ],
      "metadata": {
        "id": "W9bV7C4QjwhV"
      }
    }
  ],
  "metadata": {
    "accelerator": "GPU",
    "colab": {
      "provenance": [],
      "include_colab_link": true
    },
    "kernelspec": {
      "display_name": "Python 3",
      "name": "python3"
    },
    "language_info": {
      "name": "python"
    }
  },
  "nbformat": 4,
  "nbformat_minor": 0
}