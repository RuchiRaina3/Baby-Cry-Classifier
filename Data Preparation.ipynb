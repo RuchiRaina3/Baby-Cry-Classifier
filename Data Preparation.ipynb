{
  "nbformat": 4,
  "nbformat_minor": 0,
  "metadata": {
    "colab": {
      "provenance": [],
      "authorship_tag": "ABX9TyMG36W2rmwelcEWPJmMlbrW",
      "include_colab_link": true
    },
    "kernelspec": {
      "name": "python3",
      "display_name": "Python 3"
    },
    "language_info": {
      "name": "python"
    }
  },
  "cells": [
    {
      "cell_type": "markdown",
      "metadata": {
        "id": "view-in-github",
        "colab_type": "text"
      },
      "source": [
        "<a href=\"https://colab.research.google.com/github/RuchiRaina3/Baby-Cry-Project/blob/main/Data%20Preparation.ipynb\" target=\"_parent\"><img src=\"https://colab.research.google.com/assets/colab-badge.svg\" alt=\"Open In Colab\"/></a>"
      ]
    },
    {
      "cell_type": "code",
      "execution_count": null,
      "metadata": {
        "id": "yhHKxrmBCVmt",
        "colab": {
          "base_uri": "https://localhost:8080/"
        },
        "outputId": "0ac03cee-0f84-4929-ce5f-a24a0dcad2e2"
      },
      "outputs": [
        {
          "output_type": "stream",
          "name": "stdout",
          "text": [
            "Mounted at /content/drive\n"
          ]
        }
      ],
      "source": [
        "from google.colab import drive\n",
        "drive.mount('/content/drive')"
      ]
    },
    {
      "cell_type": "code",
      "source": [
        "pip install pydub"
      ],
      "metadata": {
        "id": "8BCwqOAPCazH",
        "colab": {
          "base_uri": "https://localhost:8080/"
        },
        "outputId": "5f8d1cf4-681b-40ee-a057-81fbbaf542f9"
      },
      "execution_count": null,
      "outputs": [
        {
          "output_type": "stream",
          "name": "stdout",
          "text": [
            "Looking in indexes: https://pypi.org/simple, https://us-python.pkg.dev/colab-wheels/public/simple/\n",
            "Collecting pydub\n",
            "  Downloading pydub-0.25.1-py2.py3-none-any.whl (32 kB)\n",
            "Installing collected packages: pydub\n",
            "Successfully installed pydub-0.25.1\n"
          ]
        }
      ]
    },
    {
      "cell_type": "code",
      "source": [
        "from pydub import AudioSegment\n",
        "import librosa\n",
        "import pandas as pd"
      ],
      "metadata": {
        "id": "cCdc3sL-Cf01"
      },
      "execution_count": null,
      "outputs": []
    },
    {
      "cell_type": "markdown",
      "source": [
        "Stats:\n",
        "*   bellypain = 80\n",
        "*   burping = 40\n",
        "*   discomfort = 135\n",
        "*   hungry = 80\n",
        "*   tired = 80\n",
        "\n",
        "To bring uniformity, we will make all folders to have 80 audio files.\n",
        "All audios are longer than 5 seconds and maximum lie between 5-7 seconds\n",
        "Now, what to do is:\n",
        "*   For all folders except burping: We will extract starting 2.5 seconds of audio files and store them in the new location \n",
        "*   For burping: As its number is only 40, so to make them 80, we will extract starting 2.5 seconds as well as next 2.5 seconds of audio and store these two created files in the new location. This will result in 80 files of burping.\n",
        "\n",
        "We will also keep a check if files have not exceeded the count of 80 because discomfort has 135 files and we want only 80.\n",
        "\n",
        "The following function performs the above mentioned tasks:"
      ],
      "metadata": {
        "id": "KC3OvPRMF3_B"
      }
    },
    {
      "cell_type": "code",
      "source": [
        "def audioTrim(path, new_path, burpingt='False'):\n",
        "\n",
        "    count = 1\n",
        "    i = '000'   #To number the files of that folder\n",
        "\n",
        "    #files is the list of all audio files of the passed folder path\n",
        "    files = librosa.util.find_files(path)\n",
        "\n",
        "    for file in files:\n",
        "      #because we want to have 80 files of each folder\n",
        "      if count<81:\n",
        "        audio = AudioSegment.from_wav(file)\n",
        "        \n",
        "        #Extracting starting 2.5 seconds\n",
        "        start_sec = 0*1000\n",
        "        end_sec = 2.5*1000\n",
        "        extract = audio[start_sec:end_sec]\n",
        "        j = str(int('9' + i) + 1)[1:]           #To number the files of that folder\n",
        "        print(j)\n",
        "        name = new_path+j+\".wav\"\n",
        "        print(name)\n",
        "        extract.export(name, format=\"wav\")\n",
        "        i = j\n",
        "        if burpingt==True:\n",
        "          start_sec = 2.5*1000\n",
        "          end_sec = 5*1000\n",
        "          extract = audio[start_sec:end_sec]\n",
        "          j = str(int('9' + i) + 1)[1:]\n",
        "          print(j)\n",
        "          name = new_path+j+\".wav\"\n",
        "          print(name)\n",
        "          extract.export(name, format=\"wav\")\n",
        "          i = j\n",
        "        count = count+1"
      ],
      "metadata": {
        "id": "K4_pBhKcEUKb"
      },
      "execution_count": null,
      "outputs": []
    },
    {
      "cell_type": "code",
      "source": [
        "audioTrim(\"/content/drive/MyDrive/Cry_Clips/belly_pain\", \"/content/drive/MyDrive/Baby Cry Project/Cry Clips/bellypain/\")\n",
        "audioTrim(\"/content/drive/MyDrive/Cry_Clips/burping\", \"/content/drive/MyDrive/Baby Cry Project/Cry Clips/burping/\", True)\n",
        "audioTrim(\"/content/drive/MyDrive/Cry_Clips/discomfort\", \"/content/drive/MyDrive/Baby Cry Project/Cry Clips/discomfort/\")\n",
        "audioTrim(\"/content/drive/MyDrive/Cry_Clips/hungry\", \"/content/drive/MyDrive/Baby Cry Project/Cry Clips/hungry/\")\n",
        "audioTrim(\"/content/drive/MyDrive/Cry_Clips/tired\", \"/content/drive/MyDrive/Baby Cry Project/Cry Clips/tired/\")"
      ],
      "metadata": {
        "id": "hN0pCxvfCfCd"
      },
      "execution_count": null,
      "outputs": []
    }
  ]
}